{
 "cells": [
  {
   "cell_type": "code",
   "execution_count": null,
   "metadata": {},
   "outputs": [],
   "source": [
    "import pandas as pd\n",
    "import torch\n",
    "import matplotlib.pyplot as plt\n",
    "import numpy as np\n",
    "\n",
    "from numpy.linalg import norm\n",
    "from math import sqrt"
   ]
  },
  {
   "cell_type": "markdown",
   "metadata": {},
   "source": [
    "**Huge diffusion file in a google disk**"
   ]
  },
  {
   "cell_type": "code",
   "execution_count": null,
   "metadata": {},
   "outputs": [],
   "source": [
    "def make_df_get_Dt(path, N):\n",
    "    df = pd.read_csv(path, skiprows=[0,1, 2])\n",
    "\n",
    "    with open(path) as f:\n",
    "        f.readline()\n",
    "        line = f.readline()\n",
    "\n",
    "    Dt = float(line.split(':')[-1][:-1])    # шаг по времени для соседних строчек в диффузии\n",
    "\n",
    "    return df, Dt"
   ]
  },
  {
   "cell_type": "code",
   "execution_count": null,
   "metadata": {},
   "outputs": [],
   "source": [
    "path1 = './graphs/diff_N100_t50_interval10dt.csv'\n",
    "path2 = './graphs/diff_N_100_dt0_00025.csv'\n",
    "N = 100\n",
    "\n",
    "df1, Dt1 = make_df_get_Dt(path=path1, N=N)\n",
    "df2, Dt2 = make_df_get_Dt(path=path2, N=N)"
   ]
  },
  {
   "cell_type": "code",
   "execution_count": null,
   "metadata": {},
   "outputs": [],
   "source": [
    "df1.shape"
   ]
  },
  {
   "cell_type": "code",
   "execution_count": null,
   "metadata": {},
   "outputs": [],
   "source": [
    "def calculate_all_means(number_of_steps, df, Dt):\n",
    "    '''\n",
    "    Возвращает массив из усредненного по всем перемещениям для каждой частицы и затем по всем частиц из перемещений для разных времен перемещения\n",
    "    и массив отрезков времени для которых как раз получено значение перемещения.\n",
    "    df: pd.Dataframe\n",
    "    Dt: расстояние по времени между двумя соседними строчками в датафрейме\n",
    "    '''\n",
    "    steps = [step for step in range(0, number_of_steps + 1, 50)]    # это степы для которых я смотрю квадрат перемещения\n",
    "    print(steps)\n",
    "    \n",
    "    all_means = []\n",
    "    for step in steps:\n",
    "        part_dict = {}\n",
    "        for i in range(N):\n",
    "            part_dict[i] = np.array([])\n",
    "        \n",
    "        for row_numb in steps:\n",
    "            for p_numb in range(N):\n",
    "                row = df.iloc[row_numb]\n",
    "                x = row[str(p_numb) + 'x']\n",
    "                y = row[str(p_numb) + 'y']\n",
    "                z = row[str(p_numb) + 'z']\n",
    "                pos = np.array([x, y, z])\n",
    "\n",
    "                row_next = df.iloc[row_numb + step]     # берем для той же частицы с шагом step ряд\n",
    "                x_next = row_next[str(p_numb) + 'x']\n",
    "                y_next = row_next[str(p_numb) + 'y']\n",
    "                z_next = row_next[str(p_numb) + 'z']\n",
    "                pos_next = np.array([x_next, y_next, z_next])\n",
    "                \n",
    "                s_square = norm(pos_next - pos) ** 2\n",
    "                # s_square = (x_next - x) ** 2 + (y_next - y) ** 2 + (z_next - z) ** 2\n",
    "                # print(s_square)\n",
    "                part_dict[p_numb] = np.append(part_dict[p_numb], s_square)\n",
    "\n",
    "        mean_dict = {}\n",
    "        for i in range(N):\n",
    "            mean_dict[i] = part_dict[i].mean()\n",
    "\n",
    "        total_mean_for_step = np.array(list(mean_dict.values())).mean()\n",
    "\n",
    "        all_means.append(total_mean_for_step)\n",
    "\n",
    "    return all_means, Dt * np.array(steps)\n",
    "    "
   ]
  },
  {
   "cell_type": "code",
   "execution_count": null,
   "metadata": {},
   "outputs": [],
   "source": [
    "all_means1, dt_of_steps1 = calculate_all_means(1500, df=df1, Dt=Dt1)"
   ]
  },
  {
   "cell_type": "code",
   "execution_count": null,
   "metadata": {},
   "outputs": [],
   "source": [
    "all_means2, dt_of_steps2 = calculate_all_means(5000, df=df2, Dt=Dt2)"
   ]
  },
  {
   "cell_type": "code",
   "execution_count": null,
   "metadata": {},
   "outputs": [],
   "source": [
    "def calculate_k(x, y, through_zero=False):\n",
    "    '''Вычисление коэффициентов для аппроксимации зависимостью y = kx + b'''\n",
    "    n = len(x)\n",
    "    m_x = x.mean()\n",
    "    m_y = y.mean()\n",
    "    m_xx = (x * x). mean()\n",
    "    m_yy = (y * y).mean()\n",
    "    m_xy = (x * y).mean()\n",
    "    m_x_m_x = x.mean() * x.mean()\n",
    "    m_y_m_y = y.mean() * y.mean()\n",
    "\n",
    "    k = 0\n",
    "    s_k = 0\n",
    "    b = 0\n",
    "    s_b = 0\n",
    "\n",
    "    if through_zero:\n",
    "        k = m_xy / m_xx\n",
    "        s_k = (1 / sqrt(n)) * sqrt((m_yy / m_xx) - k ** 2)\n",
    "        return [k, s_k]\n",
    "\n",
    "    else:\n",
    "        k = (m_xy - m_x * m_y) / (m_xx - m_x_m_x)\n",
    "        b = m_y - k * m_x\n",
    "\n",
    "        s_k = (1 / sqrt(n)) * sqrt((m_yy - m_y_m_y) / (m_xx - m_x_m_x) - k ** 2)\n",
    "        s_b = s_k * sqrt(m_xx - m_x_m_x)\n",
    "        return [k, s_k, b, s_b]"
   ]
  },
  {
   "cell_type": "code",
   "execution_count": null,
   "metadata": {},
   "outputs": [],
   "source": [
    "k1, _, b1, _ = calculate_k(np.array(dt_of_steps1), np.array(all_means1))\n",
    "k2, _, b2, _ = calculate_k(np.array(dt_of_steps2), np.array(all_means2))"
   ]
  },
  {
   "cell_type": "code",
   "execution_count": null,
   "metadata": {},
   "outputs": [],
   "source": [
    "sp = None\n",
    "plt.figure(figsize=(15, 8))\n",
    "\n",
    "sp = plt.subplot(1, 2, 1)\n",
    "plt.scatter(dt_of_steps1, all_means1)\n",
    "sp = plt.subplot(1, 2, 2)\n",
    "plt.scatter(dt_of_steps2, all_means2)\n",
    "\n",
    "plt.show()"
   ]
  },
  {
   "cell_type": "code",
   "execution_count": null,
   "metadata": {},
   "outputs": [],
   "source": [
    "sp = None\n",
    "plt.figure(figsize=(15, 8))\n",
    "\n",
    "sp = plt.subplot(1, 2, 1)\n",
    "plt.scatter(dt_of_steps1, np.sqrt(all_means1))\n",
    "sp = plt.subplot(1, 2, 2)\n",
    "plt.scatter(dt_of_steps2, np.sqrt(all_means2))\n",
    "\n",
    "plt.show()"
   ]
  },
  {
   "cell_type": "code",
   "execution_count": null,
   "metadata": {},
   "outputs": [],
   "source": []
  },
  {
   "cell_type": "code",
   "execution_count": null,
   "metadata": {},
   "outputs": [],
   "source": []
  },
  {
   "cell_type": "code",
   "execution_count": null,
   "metadata": {},
   "outputs": [],
   "source": []
  },
  {
   "cell_type": "code",
   "execution_count": null,
   "metadata": {},
   "outputs": [],
   "source": []
  },
  {
   "cell_type": "code",
   "execution_count": null,
   "metadata": {},
   "outputs": [],
   "source": []
  }
 ],
 "metadata": {
  "interpreter": {
   "hash": "916dbcbb3f70747c44a77c7bcd40155683ae19c65e1c03b4aa3499c5328201f1"
  },
  "kernelspec": {
   "display_name": "Python 3 (ipykernel)",
   "language": "python",
   "name": "python3"
  },
  "language_info": {
   "codemirror_mode": {
    "name": "ipython",
    "version": 3
   },
   "file_extension": ".py",
   "mimetype": "text/x-python",
   "name": "python",
   "nbconvert_exporter": "python",
   "pygments_lexer": "ipython3",
   "version": "3.9.7"
  }
 },
 "nbformat": 4,
 "nbformat_minor": 2
}
