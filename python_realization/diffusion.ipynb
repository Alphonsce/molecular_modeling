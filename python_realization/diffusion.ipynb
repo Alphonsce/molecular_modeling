{
 "cells": [
  {
   "cell_type": "code",
   "execution_count": 1,
   "metadata": {},
   "outputs": [],
   "source": [
    "import pandas as pd\n",
    "import torch\n",
    "import matplotlib.pyplot as plt\n",
    "import numpy as np\n",
    "\n",
    "from numpy.linalg import norm\n",
    "from math import sqrt"
   ]
  },
  {
   "cell_type": "markdown",
   "metadata": {},
   "source": [
    "**Huge diffusion file in a google disk**"
   ]
  },
  {
   "cell_type": "code",
   "execution_count": 21,
   "metadata": {},
   "outputs": [],
   "source": [
    "def make_df_get_Dt(path, N):\n",
    "    df = pd.read_csv(path, skiprows=[0, 1, 2])\n",
    "\n",
    "    with open(path) as f:\n",
    "        f.readline()\n",
    "        line = f.readline()\n",
    "\n",
    "    Dt = float(line.split(':')[-1][:-1])    # шаг по времени для соседних строчек в диффузии\n",
    "\n",
    "    return df, Dt"
   ]
  },
  {
   "cell_type": "markdown",
   "metadata": {},
   "source": [
    "**Условие чтобы не было list index out of range для пандаса: предыдущее + step <= количество строк, если поделить пополам количество строчеки взять чуток поменьше, то получится все норм. Это связно с тем, что для подсчета расстояние надо делать row_numb + step, а step - это через сколько строчек по датасету я перепрыгиваю.**\n"
   ]
  },
  {
   "cell_type": "code",
   "execution_count": 25,
   "metadata": {},
   "outputs": [],
   "source": [
    "def calculate_all_means(max_step, df, Dt, interval_for_step=10):\n",
    "    '''\n",
    "    Возвращает массив из усредненного по всем перемещениям для каждой частицы и затем по всем частиц из перемещений для разных времен перемещения\n",
    "    и массив отрезков времени для которых как раз получено значение перемещения.\n",
    "    df: pd.Dataframe\n",
    "    Dt: расстояние по времени между двумя соседними строчками в датафрейме\n",
    "    '''\n",
    "\n",
    "    steps = [step for step in range(1, max_step + 1, interval_for_step)]    # через такое количество строчек я смотрю перемещение-проходясь по циклу я для разных времен перемещения получаю значения\n",
    "    # print(steps)\n",
    "    all_means = []\n",
    "    for step in steps:\n",
    "        part_dict = {}\n",
    "        for i in range(N):\n",
    "            part_dict[i] = np.array([])\n",
    "        \n",
    "        for row_numb in steps:\n",
    "            for p_numb in range(N):\n",
    "                row = df.iloc[row_numb]\n",
    "                x = row[str(p_numb) + 'x']\n",
    "                y = row[str(p_numb) + 'y']\n",
    "                z = row[str(p_numb) + 'z']\n",
    "                pos = np.array([x, y, z])\n",
    "\n",
    "                row_next = df.iloc[row_numb + step]     # берем для той же частицы с шагом step ряд\n",
    "                x_next = row_next[str(p_numb) + 'x']\n",
    "                y_next = row_next[str(p_numb) + 'y']\n",
    "                z_next = row_next[str(p_numb) + 'z']\n",
    "                pos_next = np.array([x_next, y_next, z_next])\n",
    "                \n",
    "                s_square = norm(pos_next - pos) ** 2\n",
    "                part_dict[p_numb] = np.append(part_dict[p_numb], s_square)\n",
    "\n",
    "        mean_dict = {}\n",
    "        for i in range(N):\n",
    "            mean_dict[i] = part_dict[i].mean()\n",
    "\n",
    "        total_mean_for_step = np.array(list(mean_dict.values())).mean()\n",
    "\n",
    "        all_means.append(total_mean_for_step)\n",
    "\n",
    "    return all_means, Dt * np.array(steps)\n",
    "    "
   ]
  },
  {
   "cell_type": "markdown",
   "metadata": {},
   "source": [
    "ceil(max / interval) - количество точек в графике"
   ]
  },
  {
   "cell_type": "code",
   "execution_count": 26,
   "metadata": {},
   "outputs": [],
   "source": [
    "N = 100\n",
    "path_best = '../graphs/diff_100p_300k_steps.csv'"
   ]
  },
  {
   "cell_type": "code",
   "execution_count": 27,
   "metadata": {},
   "outputs": [],
   "source": [
    "df, Dt = make_df_get_Dt(path=path_best, N=N)\n",
    "all_means, dt_of_steps = calculate_all_means(max_step=2380, df=df, Dt=Dt, interval_for_step=16)"
   ]
  },
  {
   "cell_type": "code",
   "execution_count": 32,
   "metadata": {},
   "outputs": [],
   "source": [
    "# pd.DataFrame(\n",
    "#     {'all_means': all_means, 'dt_of_steps': dt_of_steps}\n",
    "# ).to_csv('../graphs/diffusion_ready/100p_300k_ready.csv', index=False)"
   ]
  },
  {
   "cell_type": "code",
   "execution_count": 36,
   "metadata": {},
   "outputs": [],
   "source": [
    "def plot_ready_diffusion(path='../graphs/diffusion_ready/100p_300k_ready.csv'):\n",
    "    df = pd.read_csv(path)\n",
    "    dt_of_steps = df['dt_of_steps']\n",
    "    all_means = df['all_means']\n",
    "\n",
    "    plt.scatter(dt_of_steps, all_means)\n",
    "\n",
    "    plt.xlabel('$\\Delta t$ of movement, $\\sigma\\cdot\\sqrt{\\dfrac{M}{\\epsilon}}$', fontsize=14)\n",
    "    plt.ylabel('$|\\Delta r|^2$, $\\sigma^2$', fontsize=14)\n",
    "\n",
    "    plt.show()"
   ]
  },
  {
   "cell_type": "code",
   "execution_count": 28,
   "metadata": {},
   "outputs": [
    {
     "data": {
      "image/png": "[encoded data removed]",
      "text/plain": [
       "<Figure size 432x288 with 1 Axes>"
      ]
     },
     "metadata": {
      "needs_background": "light"
     },
     "output_type": "display_data"
    }
   ],
   "source": [
    "plt.scatter(dt_of_steps, all_means)\n",
    "\n",
    "plt.show()"
   ]
  },
  {
   "cell_type": "markdown",
   "metadata": {},
   "source": [
    "Время когда парабола переходит в прямую - это время свободного пробега. Самый простой вариант это понять - в логарифмических координатах. Когда у нас парабола - это s^2 = t^2, то есть это просто свободное движение частицы. Короче вот такая вот парабола это правильно"
   ]
  },
  {
   "cell_type": "markdown",
   "metadata": {},
   "source": [
    "Сейчас задача - построить достаточно широко по координате delta_t перемещения, чтобы было видно нормально и прямую и параболу"
   ]
  },
  {
   "cell_type": "code",
   "execution_count": 35,
   "metadata": {},
   "outputs": [
    {
     "data": {
      "image/png": "[encoded data removed]",
      "text/plain": [
       "<Figure size 1080x576 with 1 Axes>"
      ]
     },
     "metadata": {
      "needs_background": "light"
     },
     "output_type": "display_data"
    }
   ],
   "source": [
    "x = np.log(dt_of_steps)\n",
    "y = np.log(all_means)\n",
    "plt.figure(figsize=(15, 8))\n",
    "\n",
    "plt.scatter(x, y)\n",
    "\n",
    "plt.show()"
   ]
  }
 ],
 "metadata": {
  "interpreter": {
   "hash": "916dbcbb3f70747c44a77c7bcd40155683ae19c65e1c03b4aa3499c5328201f1"
  },
  "kernelspec": {
   "display_name": "Python 3 (ipykernel)",
   "language": "python",
   "name": "python3"
  },
  "language_info": {
   "codemirror_mode": {
    "name": "ipython",
    "version": 3
   },
   "file_extension": ".py",
   "mimetype": "text/x-python",
   "name": "python",
   "nbconvert_exporter": "python",
   "pygments_lexer": "ipython3",
   "version": "3.8.10"
  }
 },
 "nbformat": 4,
 "nbformat_minor": 2
}
