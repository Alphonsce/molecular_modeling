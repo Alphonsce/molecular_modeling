{
 "cells": [
  {
   "cell_type": "markdown",
   "metadata": {},
   "source": [
    "First of all I nedd to create my training dataset:\n",
    "- 1st class are dots, which are on a parabola\n",
    "- 2nd class are dots, which are on a straight line\n",
    "- \n",
    "Such dataset will be my dataset for training a model: it will contain x, y, label columns for dots"
   ]
  },
  {
   "cell_type": "code",
   "execution_count": 3,
   "metadata": {},
   "outputs": [],
   "source": [
    "import pandas as pd\n",
    "import numpy as np\n",
    "import matplotlib.pyplot as plt"
   ]
  },
  {
   "cell_type": "code",
   "execution_count": 2,
   "metadata": {},
   "outputs": [],
   "source": [
    "def linear(x, k, b):\n",
    "    return k * x + b\n",
    "\n",
    "def quadratic(a, x):\n",
    "    '''\n",
    "    generates points for ax^2\n",
    "    '''\n",
    "\n",
    "    return a * x ** 2"
   ]
  },
  {
   "cell_type": "code",
   "execution_count": 40,
   "metadata": {},
   "outputs": [],
   "source": [
    "dic = {'x': np.array([]), 'y': np.array([]), 'label': np.array([])}\n",
    "\n",
    "# Надо выбрать какую-то одну линейную и квадратичную зависимости, которые одна в другую переходят и для них классифицировать\n",
    "\n",
    "# for a in a_:\n",
    "#     for x in range(50):\n",
    "#         # r = np.random.rand(1).item() / 2\n",
    "\n",
    "#         dic['x'] = np.append(dic['x'], x)\n",
    "#         dic['y'] = np.append(dic['y'], round(quadratic(a, x), 3))\n",
    "#         dic['label'] = np.append(dic['label'], 1)\n",
    "\n",
    "# for k in k_:\n",
    "#     for b in b_:\n",
    "#         for x in range(60):\n",
    "#             dic['x'] = np.append(dic['x'], x)\n",
    "#             dic['y'] = np.append(dic['y'], round(linear(x, k, b), 2))\n",
    "#             dic['label'] = np.append(dic['label'], 0)"
   ]
  },
  {
   "cell_type": "code",
   "execution_count": 41,
   "metadata": {},
   "outputs": [],
   "source": [
    "df = pd.DataFrame(dic)"
   ]
  },
  {
   "cell_type": "code",
   "execution_count": 42,
   "metadata": {},
   "outputs": [],
   "source": [
    "df = df.sample(frac=1).reset_index(drop=True)   # drop=True tells to drop old indexes"
   ]
  }
 ],
 "metadata": {
  "interpreter": {
   "hash": "916dbcbb3f70747c44a77c7bcd40155683ae19c65e1c03b4aa3499c5328201f1"
  },
  "kernelspec": {
   "display_name": "Python 3.8.10 64-bit",
   "language": "python",
   "name": "python3"
  },
  "language_info": {
   "codemirror_mode": {
    "name": "ipython",
    "version": 3
   },
   "file_extension": ".py",
   "mimetype": "text/x-python",
   "name": "python",
   "nbconvert_exporter": "python",
   "pygments_lexer": "ipython3",
   "version": "3.8.10"
  },
  "orig_nbformat": 4
 },
 "nbformat": 4,
 "nbformat_minor": 2
}
