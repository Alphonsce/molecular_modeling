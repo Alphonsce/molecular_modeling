{
 "cells": [
  {
   "cell_type": "code",
   "execution_count": 1,
   "metadata": {},
   "outputs": [],
   "source": [
    "import pandas as pd\n",
    "import torch\n",
    "import matplotlib.pyplot as plt\n",
    "import numpy as np\n",
    "\n",
    "from numpy.linalg import norm\n",
    "from math import sqrt"
   ]
  },
  {
   "cell_type": "markdown",
   "metadata": {},
   "source": [
    "**Huge diffusion file in a google disk**"
   ]
  },
  {
   "cell_type": "code",
   "execution_count": 2,
   "metadata": {},
   "outputs": [
    {
     "data": {
      "text/plain": [
       "(6000, 400)"
      ]
     },
     "execution_count": 2,
     "metadata": {},
     "output_type": "execute_result"
    }
   ],
   "source": [
    "path = './graphs/diff_N100_t50_interval10dt.csv'\n",
    "\n",
    "df = pd.read_csv(path, skiprows=[0,1])\n",
    "df.shape"
   ]
  },
  {
   "cell_type": "code",
   "execution_count": 3,
   "metadata": {},
   "outputs": [
    {
     "data": {
      "text/html": [
       "<div>\n",
       "<style scoped>\n",
       "    .dataframe tbody tr th:only-of-type {\n",
       "        vertical-align: middle;\n",
       "    }\n",
       "\n",
       "    .dataframe tbody tr th {\n",
       "        vertical-align: top;\n",
       "    }\n",
       "\n",
       "    .dataframe thead th {\n",
       "        text-align: right;\n",
       "    }\n",
       "</style>\n",
       "<table border=\"1\" class=\"dataframe\">\n",
       "  <thead>\n",
       "    <tr style=\"text-align: right;\">\n",
       "      <th></th>\n",
       "      <th>t</th>\n",
       "      <th>0x</th>\n",
       "      <th>0y</th>\n",
       "      <th>0z</th>\n",
       "      <th>t.1</th>\n",
       "      <th>1x</th>\n",
       "      <th>1y</th>\n",
       "      <th>1z</th>\n",
       "      <th>t.2</th>\n",
       "      <th>2x</th>\n",
       "      <th>...</th>\n",
       "      <th>97y</th>\n",
       "      <th>97z</th>\n",
       "      <th>t.98</th>\n",
       "      <th>98x</th>\n",
       "      <th>98y</th>\n",
       "      <th>98z</th>\n",
       "      <th>t.99</th>\n",
       "      <th>99x</th>\n",
       "      <th>99y</th>\n",
       "      <th>99z</th>\n",
       "    </tr>\n",
       "  </thead>\n",
       "  <tbody>\n",
       "    <tr>\n",
       "      <th>0</th>\n",
       "      <td>20.000</td>\n",
       "      <td>-0.000618</td>\n",
       "      <td>-0.000439</td>\n",
       "      <td>0.001027</td>\n",
       "      <td>20.000</td>\n",
       "      <td>0.000392</td>\n",
       "      <td>0.001069</td>\n",
       "      <td>-0.000501</td>\n",
       "      <td>20.000</td>\n",
       "      <td>-0.000404</td>\n",
       "      <td>...</td>\n",
       "      <td>-0.000215</td>\n",
       "      <td>-0.000814</td>\n",
       "      <td>20.000</td>\n",
       "      <td>0.000071</td>\n",
       "      <td>-0.000410</td>\n",
       "      <td>0.001553</td>\n",
       "      <td>20.000</td>\n",
       "      <td>0.001234</td>\n",
       "      <td>0.000899</td>\n",
       "      <td>0.001204</td>\n",
       "    </tr>\n",
       "    <tr>\n",
       "      <th>1</th>\n",
       "      <td>20.005</td>\n",
       "      <td>-0.006787</td>\n",
       "      <td>-0.004844</td>\n",
       "      <td>0.011301</td>\n",
       "      <td>20.005</td>\n",
       "      <td>0.004307</td>\n",
       "      <td>0.011768</td>\n",
       "      <td>-0.005515</td>\n",
       "      <td>20.005</td>\n",
       "      <td>-0.004417</td>\n",
       "      <td>...</td>\n",
       "      <td>-0.002374</td>\n",
       "      <td>-0.008948</td>\n",
       "      <td>20.005</td>\n",
       "      <td>0.000785</td>\n",
       "      <td>-0.004511</td>\n",
       "      <td>0.017087</td>\n",
       "      <td>20.005</td>\n",
       "      <td>0.013588</td>\n",
       "      <td>0.009913</td>\n",
       "      <td>0.013257</td>\n",
       "    </tr>\n",
       "    <tr>\n",
       "      <th>2</th>\n",
       "      <td>20.010</td>\n",
       "      <td>-0.012933</td>\n",
       "      <td>-0.009282</td>\n",
       "      <td>0.021586</td>\n",
       "      <td>20.010</td>\n",
       "      <td>0.008219</td>\n",
       "      <td>0.022492</td>\n",
       "      <td>-0.010533</td>\n",
       "      <td>20.010</td>\n",
       "      <td>-0.008400</td>\n",
       "      <td>...</td>\n",
       "      <td>-0.004551</td>\n",
       "      <td>-0.017079</td>\n",
       "      <td>20.010</td>\n",
       "      <td>0.001500</td>\n",
       "      <td>-0.008609</td>\n",
       "      <td>0.032621</td>\n",
       "      <td>20.010</td>\n",
       "      <td>0.025973</td>\n",
       "      <td>0.018966</td>\n",
       "      <td>0.025332</td>\n",
       "    </tr>\n",
       "    <tr>\n",
       "      <th>3</th>\n",
       "      <td>20.015</td>\n",
       "      <td>-0.019056</td>\n",
       "      <td>-0.013756</td>\n",
       "      <td>0.031885</td>\n",
       "      <td>20.015</td>\n",
       "      <td>0.012129</td>\n",
       "      <td>0.033242</td>\n",
       "      <td>-0.015557</td>\n",
       "      <td>20.015</td>\n",
       "      <td>-0.012363</td>\n",
       "      <td>...</td>\n",
       "      <td>-0.006745</td>\n",
       "      <td>-0.025207</td>\n",
       "      <td>20.015</td>\n",
       "      <td>0.002215</td>\n",
       "      <td>-0.012706</td>\n",
       "      <td>0.048157</td>\n",
       "      <td>20.015</td>\n",
       "      <td>0.038389</td>\n",
       "      <td>0.028059</td>\n",
       "      <td>0.037430</td>\n",
       "    </tr>\n",
       "    <tr>\n",
       "      <th>4</th>\n",
       "      <td>20.020</td>\n",
       "      <td>-0.025154</td>\n",
       "      <td>-0.018268</td>\n",
       "      <td>0.042196</td>\n",
       "      <td>20.020</td>\n",
       "      <td>0.016035</td>\n",
       "      <td>0.044018</td>\n",
       "      <td>-0.020587</td>\n",
       "      <td>20.020</td>\n",
       "      <td>-0.016313</td>\n",
       "      <td>...</td>\n",
       "      <td>-0.008956</td>\n",
       "      <td>-0.033331</td>\n",
       "      <td>20.020</td>\n",
       "      <td>0.002932</td>\n",
       "      <td>-0.016802</td>\n",
       "      <td>0.063694</td>\n",
       "      <td>20.020</td>\n",
       "      <td>0.050836</td>\n",
       "      <td>0.037194</td>\n",
       "      <td>0.049552</td>\n",
       "    </tr>\n",
       "  </tbody>\n",
       "</table>\n",
       "<p>5 rows × 400 columns</p>\n",
       "</div>"
      ],
      "text/plain": [
       "        t        0x        0y        0z     t.1        1x        1y        1z  \\\n",
       "0  20.000 -0.000618 -0.000439  0.001027  20.000  0.000392  0.001069 -0.000501   \n",
       "1  20.005 -0.006787 -0.004844  0.011301  20.005  0.004307  0.011768 -0.005515   \n",
       "2  20.010 -0.012933 -0.009282  0.021586  20.010  0.008219  0.022492 -0.010533   \n",
       "3  20.015 -0.019056 -0.013756  0.031885  20.015  0.012129  0.033242 -0.015557   \n",
       "4  20.020 -0.025154 -0.018268  0.042196  20.020  0.016035  0.044018 -0.020587   \n",
       "\n",
       "      t.2        2x  ...       97y       97z    t.98       98x       98y  \\\n",
       "0  20.000 -0.000404  ... -0.000215 -0.000814  20.000  0.000071 -0.000410   \n",
       "1  20.005 -0.004417  ... -0.002374 -0.008948  20.005  0.000785 -0.004511   \n",
       "2  20.010 -0.008400  ... -0.004551 -0.017079  20.010  0.001500 -0.008609   \n",
       "3  20.015 -0.012363  ... -0.006745 -0.025207  20.015  0.002215 -0.012706   \n",
       "4  20.020 -0.016313  ... -0.008956 -0.033331  20.020  0.002932 -0.016802   \n",
       "\n",
       "        98z    t.99       99x       99y       99z  \n",
       "0  0.001553  20.000  0.001234  0.000899  0.001204  \n",
       "1  0.017087  20.005  0.013588  0.009913  0.013257  \n",
       "2  0.032621  20.010  0.025973  0.018966  0.025332  \n",
       "3  0.048157  20.015  0.038389  0.028059  0.037430  \n",
       "4  0.063694  20.020  0.050836  0.037194  0.049552  \n",
       "\n",
       "[5 rows x 400 columns]"
      ]
     },
     "execution_count": 3,
     "metadata": {},
     "output_type": "execute_result"
    }
   ],
   "source": [
    "df.head()"
   ]
  },
  {
   "cell_type": "code",
   "execution_count": 4,
   "metadata": {},
   "outputs": [
    {
     "data": {
      "text/plain": [
       "-6.187410926979887"
      ]
     },
     "execution_count": 4,
     "metadata": {},
     "output_type": "execute_result"
    }
   ],
   "source": [
    "df.iloc[500]['0x']"
   ]
  },
  {
   "cell_type": "code",
   "execution_count": 5,
   "metadata": {},
   "outputs": [],
   "source": [
    "N = 100\n",
    "step = 1    # шаг - через сколько рядов смотрю новый квадрат перемещения\n",
    "part_dict = {}"
   ]
  },
  {
   "cell_type": "code",
   "execution_count": 6,
   "metadata": {},
   "outputs": [],
   "source": [
    "for row_numb in range(df.shape[0] - 1):\n",
    "    for p_numb in range(N):\n",
    "        row = df.iloc[row_numb]\n",
    "        x = row[str(p_numb) + 'x']\n",
    "        y = row[str(p_numb) + 'y']\n",
    "        z = row[str(p_numb) + 'z']\n",
    "        # print(f'p_numb = {p_numb}: {x, y, z}')\n",
    "\n",
    "        row_next = df.iloc[row_numb + 1]\n",
    "        x_next = row_next[str(p_numb) + 'x']\n",
    "        y_next = row_next[str(p_numb) + 'y']\n",
    "        z_next = row_next[str(p_numb) + 'z']\n",
    "        # print(f'p_numb = {p_numb}: {x_next, y_next, z_next}')\n",
    "        break\n",
    "    break"
   ]
  }
 ],
 "metadata": {
  "interpreter": {
   "hash": "916dbcbb3f70747c44a77c7bcd40155683ae19c65e1c03b4aa3499c5328201f1"
  },
  "kernelspec": {
   "display_name": "Python 3.8.10 64-bit",
   "language": "python",
   "name": "python3"
  },
  "language_info": {
   "codemirror_mode": {
    "name": "ipython",
    "version": 3
   },
   "file_extension": ".py",
   "mimetype": "text/x-python",
   "name": "python",
   "nbconvert_exporter": "python",
   "pygments_lexer": "ipython3",
   "version": "3.8.10"
  },
  "orig_nbformat": 4
 },
 "nbformat": 4,
 "nbformat_minor": 2
}
