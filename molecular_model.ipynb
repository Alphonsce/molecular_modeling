{
  "nbformat": 4,
  "nbformat_minor": 0,
  "metadata": {
    "colab": {
      "name": "molecular_model.ipynb",
      "provenance": [],
      "authorship_tag": "ABX9TyMi6KqyEep4Gbg5n1hQamyS",
      "include_colab_link": true
    },
    "kernelspec": {
      "name": "python3",
      "display_name": "Python 3"
    },
    "language_info": {
      "name": "python"
    }
  },
  "cells": [
    {
      "cell_type": "markdown",
      "metadata": {
        "id": "view-in-github",
        "colab_type": "text"
      },
      "source": [
        "<a href=\"https://colab.research.google.com/github/Alphonsce/molecular_modeling/blob/main/molecular_model.ipynb\" target=\"_parent\"><img src=\"https://colab.research.google.com/assets/colab-badge.svg\" alt=\"Open In Colab\"/></a>"
      ]
    },
    {
      "cell_type": "code",
      "execution_count": 4,
      "metadata": {
        "id": "OyR7Gf654QiW"
      },
      "outputs": [],
      "source": [
        "import numpy as np\n",
        "import matplotlib.pyplot as plt\n",
        "import random\n",
        "from numpy.linalg import norm\n",
        "from math import sqrt, pow\n",
        "\n",
        "np.random.seed(1)"
      ]
    },
    {
      "cell_type": "code",
      "source": [
        "SIGMA = 1\n",
        "EPSILON = 1\n",
        "M = 1\n",
        "\n",
        "TIME_STEPS = 10000\n",
        "N = 20\n",
        "L = 2 * N ** (1 / 3)\n",
        "r_cut = 2.5     # the distance of cut for the LJ potential\n",
        "\n",
        "dt = 0.001\n",
        "# T is in epsilon / k_b units; we need to rescale velocities for temperature to be our set value\n",
        "T_thermostat = 0.8"
      ],
      "metadata": {
        "id": "dXZCK-5F4myU"
      },
      "execution_count": 5,
      "outputs": []
    },
    {
      "cell_type": "code",
      "source": [
        "class Particle:\n",
        "    '''\n",
        "    class, which will represent a moving particle\n",
        "    '''\n",
        "    def __init__(self, pos, vel, acc):\n",
        "        self.pos = pos\n",
        "        self.vel = vel\n",
        "        self.acc = acc\n",
        "\n",
        "        self.kin_energy = 0     # 0.5 * M * norm(vel) ** 2\n",
        "        self.pot_energy = 0\n",
        "\n",
        "    def move(self):\n",
        "        self.pos += self.vel * dt + 0.5 * self.acc * dt ** 2\n",
        "        # boundary conditions:\n",
        "        for r_i in self.pos:\n",
        "            if r_i > L:\n",
        "                r_i -= L\n",
        "            if r_i < L:\n",
        "                r_i += L"
      ],
      "metadata": {
        "id": "mPA1utsL4oiS"
      },
      "execution_count": 6,
      "outputs": []
    },
    {
      "cell_type": "code",
      "source": [
        "def initialize_system():\n",
        "    '''\n",
        "    initializes coordinates and velocities of particles\n",
        "    '''\n",
        "    particles = []\n",
        "    for _ in range(N):\n",
        "        pos = np.zeros(3)\n",
        "        vel = np.zeros(3)\n",
        "        acc = np.zeros(3)\n",
        "        for i in range(3):\n",
        "            pos[i] = random.uniform(0, L)\n",
        "            vel[i] = random.normalvariate(0, 1)\n",
        "        particles.append(Particle(pos, vel, acc))\n",
        "    return particles\n"
      ],
      "metadata": {
        "id": "qLH9OUBd4rSj"
      },
      "execution_count": 7,
      "outputs": []
    },
    {
      "cell_type": "code",
      "source": [
        "def force(r):\n",
        "    '''\n",
        "    r is a vector from one particle to another\n",
        "    '''\n",
        "    d = norm(r)\n",
        "    f = 4 * EPSILON * (12 * (SIGMA / pow(d, 13)) - 6 * (SIGMA / pow(d, 7))) * (r / d)   # wrong power of sigma is on purpose\n",
        "    return f"
      ],
      "metadata": {
        "id": "Cxxp1YhS4u04"
      },
      "execution_count": 8,
      "outputs": []
    },
    {
      "cell_type": "code",
      "source": [
        "def sgn(x):\n",
        "    if x > 0:\n",
        "        return 1\n",
        "    elif x < 0:\n",
        "        return -1\n",
        "    return 0"
      ],
      "metadata": {
        "id": "6PKDruJq4zH7"
      },
      "execution_count": 9,
      "outputs": []
    },
    {
      "cell_type": "code",
      "source": [
        "def calculate_acceleration(part1, part2):\n",
        "    r = part1.pos - part2.pos       # r_1 - r_2\n",
        "    # Boundary condition realisation:\n",
        "    for i in range(3):\n",
        "        if abs(r[i]) > L / 2:\n",
        "            r[i] = r[i] - L * sgn(r[i])\n",
        "            \n",
        "    dist = norm(r)\n",
        "    if dist < r_cut:\n",
        "        part1.acc += force(r) / M       # we add the force from only one particle acting on another to the total acc\n",
        "        part2.acc -= part1.acc\n",
        "        # potential of two particle interaction:\n",
        "        part1.pot_energy = -4 * (1 / pow(dist, 6) - 1 / pow(dist, 12))\n",
        "        part2.pot_energy = 0        # because potential works for pairs"
      ],
      "metadata": {
        "id": "-j0_idvG4z9g"
      },
      "execution_count": 10,
      "outputs": []
    },
    {
      "cell_type": "code",
      "source": [
        "def plot_energy(energies):\n",
        "    time = np.arange(0, len(energies) * dt, dt)\n",
        "    plt.plot(time, energies)\n",
        "    plt.show()"
      ],
      "metadata": {
        "id": "fr59cQzQ40O7"
      },
      "execution_count": 11,
      "outputs": []
    },
    {
      "cell_type": "code",
      "source": [
        "def main_cycle():\n",
        "    '''\n",
        "    main cycle, all the movements and calculations will happen here\n",
        "    '''\n",
        "    particles = initialize_system()\n",
        "    total_pot = 0\n",
        "    total_kin = 0\n",
        "    energies = np.array([])\n",
        "\n",
        "    for ts in range(TIME_STEPS):\n",
        "        total_pot = 0\n",
        "        total_kin = 0\n",
        "        for p in particles:\n",
        "            p.acc = np.zeros(3)\n",
        "            p.kin_energy = 0\n",
        "            p.pot_energy = 0\n",
        "        for i in range(N):\n",
        "            particles[i].kin_energy = 0.5 * norm(particles[i].vel) ** 2\n",
        "            for j in range(i + 1, N):\n",
        "                calculate_acceleration(particles[i], particles[j])\n",
        "\n",
        "        for p in particles:\n",
        "            total_kin += p.kin_energy\n",
        "            total_pot += p.pot_energy\n",
        "            p.move()\n",
        "\n",
        "        energies = np.append(energies, total_kin + total_pot)\n",
        "        \n",
        "        # TODO: calculate and rescale velocities here\n",
        "        T_current = (2 / 3) * total_kin / N\n",
        "        # scaler = sqrt(T_thermostat / T_current)\n",
        "        scaler = 1\n",
        "        for p in particles:\n",
        "            p.vel = scaler * p.vel + 0.5 * dt * p.acc\n",
        "\n",
        "    print(energies)\n",
        "    plot_energy(energies)"
      ],
      "metadata": {
        "id": "vsGoPbZj4945"
      },
      "execution_count": 12,
      "outputs": []
    },
    {
      "cell_type": "code",
      "source": [
        "main_cycle()"
      ],
      "metadata": {
        "colab": {
          "base_uri": "https://localhost:8080/",
          "height": 311
        },
        "id": "hWxBXbEn5DR7",
        "outputId": "0c1bc8e9-fa8f-4d70-e68f-4c9b4130cefb"
      },
      "execution_count": 13,
      "outputs": [
        {
          "output_type": "stream",
          "name": "stdout",
          "text": [
            "[5.91381541e+05 1.33839657e+08 1.33838339e+08 ... 1.33839360e+08\n",
            " 1.33839360e+08 1.33839360e+08]\n"
          ]
        },
        {
          "output_type": "display_data",
          "data": {
            "image/png": "[encoded data removed]",
            "text/plain": [
              "<Figure size 432x288 with 1 Axes>"
            ]
          },
          "metadata": {
            "needs_background": "light"
          }
        }
      ]
    }
  ]
}